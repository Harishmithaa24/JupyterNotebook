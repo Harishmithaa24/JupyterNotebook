{
 "cells": [
  {
   "cell_type": "markdown",
   "id": "0cbca18b",
   "metadata": {},
   "source": [
    "# Data Science Tools and Ecosystem"
   ]
  },
  {
   "cell_type": "markdown",
   "id": "4981a0c5",
   "metadata": {},
   "source": [
    "A data ecosystem refers to a combination of enterprise infrastructure and applications that is utilized to aggregate and analyze information. It enables organizations to better understand their customers and craft superior marketing, pricing and operations strategies."
   ]
  },
  {
   "cell_type": "markdown",
   "id": "6a8221f7",
   "metadata": {},
   "source": [
    "Some of the popular languages that Data Scientists use are:\n",
    "1. Python\n",
    "2. Hadoop\n",
    "3. R Programming"
   ]
  },
  {
   "cell_type": "markdown",
   "id": "c15c33c9",
   "metadata": {},
   "source": [
    "Some of the commonly used libraries used by Data Scientists include:\n",
    "1. Pandas\n",
    "2. TensorFlow\n",
    "3. Matplotlib"
   ]
  },
  {
   "cell_type": "markdown",
   "id": "4ba9d967",
   "metadata": {},
   "source": [
    "|Data Science Tools|\n",
    "|------------------|\n",
    "|Apache Kafka|\n",
    "|Hue|\n",
    "|MySQL|\n",
    "|Mleap|"
   ]
  },
  {
   "cell_type": "markdown",
   "id": "408d2d6e",
   "metadata": {},
   "source": [
    "### Below are a few examples of evaluating arithmetic expressions in Python"
   ]
  },
  {
   "cell_type": "code",
   "execution_count": 1,
   "id": "eeea6a9f",
   "metadata": {},
   "outputs": [
    {
     "data": {
      "text/plain": [
       "17"
      ]
     },
     "execution_count": 1,
     "metadata": {},
     "output_type": "execute_result"
    }
   ],
   "source": [
    "#This a simple arithmetic expression to mutiply then add integers\n",
    "\n",
    "(3*4)+5"
   ]
  },
  {
   "cell_type": "code",
   "execution_count": 2,
   "id": "8411b6f0",
   "metadata": {},
   "outputs": [
    {
     "data": {
      "text/plain": [
       "3"
      ]
     },
     "execution_count": 2,
     "metadata": {},
     "output_type": "execute_result"
    }
   ],
   "source": [
    "#This will convert 200 minutes to hours by diving by 60\n",
    "\n",
    "200//60"
   ]
  },
  {
   "cell_type": "markdown",
   "id": "b3f0225c",
   "metadata": {},
   "source": [
    "Objectives:\n",
    "* Popular languages in Data Science\n",
    "* Commonly used libraries in Data Science\n",
    "* Tools used in Data Science\n",
    "* Examples of arithmetic expressions in Python"
   ]
  },
  {
   "cell_type": "markdown",
   "id": "aadd6fe2",
   "metadata": {},
   "source": [
    "## Author"
   ]
  },
  {
   "cell_type": "markdown",
   "id": "a337df66",
   "metadata": {},
   "source": [
    "Harishmithaa M K"
   ]
  }
 ],
 "metadata": {
  "kernelspec": {
   "display_name": "Python 3 (ipykernel)",
   "language": "python",
   "name": "python3"
  },
  "language_info": {
   "codemirror_mode": {
    "name": "ipython",
    "version": 3
   },
   "file_extension": ".py",
   "mimetype": "text/x-python",
   "name": "python",
   "nbconvert_exporter": "python",
   "pygments_lexer": "ipython3",
   "version": "3.10.9"
  }
 },
 "nbformat": 4,
 "nbformat_minor": 5
}
